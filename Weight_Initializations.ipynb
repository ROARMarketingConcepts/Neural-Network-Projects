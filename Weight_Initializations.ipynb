{
 "cells": [
  {
   "cell_type": "markdown",
   "id": "70c83e8d-dae7-4560-a977-ade03112331e",
   "metadata": {},
   "source": [
    "# Weight Initializations"
   ]
  },
  {
   "cell_type": "code",
   "execution_count": 1,
   "id": "e5ac46ef-0f37-498d-95df-9778700b9c51",
   "metadata": {},
   "outputs": [],
   "source": [
    "import torch\n",
    "import torch.nn as nn"
   ]
  },
  {
   "cell_type": "code",
   "execution_count": 2,
   "id": "cf53f104-236a-4e59-beef-67b3cb5f86ff",
   "metadata": {},
   "outputs": [
    {
     "data": {
      "text/plain": [
       "Parameter containing:\n",
       "tensor([[ 0.2078, -0.3760,  0.1101, -0.2030,  0.4268],\n",
       "        [ 0.0605, -0.3327, -0.0074,  0.4246, -0.1040],\n",
       "        [ 0.2475,  0.4026,  0.3328,  0.2427, -0.0518],\n",
       "        [ 0.2186,  0.2592,  0.1623, -0.3387, -0.2311],\n",
       "        [ 0.3839, -0.1536, -0.2720,  0.0789, -0.1979]], requires_grad=True)"
      ]
     },
     "execution_count": 2,
     "metadata": {},
     "output_type": "execute_result"
    }
   ],
   "source": [
    "layer=nn.Linear(5,5)\n",
    "layer.weight"
   ]
  },
  {
   "cell_type": "code",
   "execution_count": 3,
   "id": "a1b8d2c3-4276-49eb-97e7-6ec789d8b48e",
   "metadata": {},
   "outputs": [
    {
     "data": {
      "text/plain": [
       "tensor([[ 0.2078, -0.3760,  0.1101, -0.2030,  0.4268],\n",
       "        [ 0.0605, -0.3327, -0.0074,  0.4246, -0.1040],\n",
       "        [ 0.2475,  0.4026,  0.3328,  0.2427, -0.0518],\n",
       "        [ 0.2186,  0.2592,  0.1623, -0.3387, -0.2311],\n",
       "        [ 0.3839, -0.1536, -0.2720,  0.0789, -0.1979]])"
      ]
     },
     "execution_count": 3,
     "metadata": {},
     "output_type": "execute_result"
    }
   ],
   "source": [
    "layer.weight.data"
   ]
  },
  {
   "cell_type": "markdown",
   "id": "bfc944e9-2e21-44f6-8e71-8316ad98c78e",
   "metadata": {},
   "source": [
    "#### Initialize weights from a uniform distribution"
   ]
  },
  {
   "cell_type": "code",
   "execution_count": 5,
   "id": "046403a2-d3e2-4c93-8fcc-33c11a0ee484",
   "metadata": {},
   "outputs": [
    {
     "data": {
      "text/plain": [
       "Parameter containing:\n",
       "tensor([[2.5019, 1.8907, 2.6448, 2.2385, 1.1996],\n",
       "        [2.7993, 2.9588, 0.1801, 1.7922, 2.5986],\n",
       "        [1.4525, 2.5382, 0.1595, 0.9795, 0.6863],\n",
       "        [0.4982, 0.8649, 2.8514, 2.5145, 2.0633],\n",
       "        [0.1145, 1.6884, 1.7922, 1.8022, 0.4393]], requires_grad=True)"
      ]
     },
     "execution_count": 5,
     "metadata": {},
     "output_type": "execute_result"
    }
   ],
   "source": [
    "nn.init.uniform_(layer.weight, a=0, b=3)"
   ]
  },
  {
   "cell_type": "markdown",
   "id": "8d10326a-cfd2-4af4-a984-10a65dc4b64d",
   "metadata": {},
   "source": [
    "#### Normal distribution"
   ]
  },
  {
   "cell_type": "code",
   "execution_count": 6,
   "id": "3649b57e-788c-4e1e-af0b-3c9483edc99b",
   "metadata": {},
   "outputs": [
    {
     "data": {
      "text/plain": [
       "Parameter containing:\n",
       "tensor([[ 1.0943, -0.3267,  2.2693, -0.7540,  0.4579],\n",
       "        [-0.1376, -0.2715,  0.1138,  1.3099,  0.5850],\n",
       "        [-0.4884,  1.0451,  0.8172,  0.0957,  0.5815],\n",
       "        [-0.8085, -2.0696,  1.0201,  0.7417, -1.7293],\n",
       "        [-1.5003,  0.0384, -0.1607, -0.4126,  0.9503]], requires_grad=True)"
      ]
     },
     "execution_count": 6,
     "metadata": {},
     "output_type": "execute_result"
    }
   ],
   "source": [
    "nn.init.normal_(layer.weight,mean=0,std=1)"
   ]
  },
  {
   "cell_type": "code",
   "execution_count": 7,
   "id": "49b269e4-32d5-4423-a957-d7a9bd18d5d4",
   "metadata": {},
   "outputs": [
    {
     "data": {
      "text/plain": [
       "Parameter containing:\n",
       "tensor([[-0.1435,  0.1518,  0.2681, -0.0735,  0.0544],\n",
       "        [-0.2377, -0.1084, -0.1018, -0.2526,  0.2871],\n",
       "        [-0.1581, -0.0927, -0.3010, -0.4115, -0.0858],\n",
       "        [-0.2431,  0.0748,  0.1786, -0.2693, -0.3267],\n",
       "        [-0.1584, -0.0358,  0.2019, -0.3176, -0.2323]], requires_grad=True)"
      ]
     },
     "execution_count": 7,
     "metadata": {},
     "output_type": "execute_result"
    }
   ],
   "source": [
    "nn.init.normal_(layer.weight,mean=0,std=0.2)"
   ]
  },
  {
   "cell_type": "markdown",
   "id": "0100a0d7-4bbd-4b57-802b-2a70c57dcb06",
   "metadata": {},
   "source": [
    "#### Constant distribution for initializing bias"
   ]
  },
  {
   "cell_type": "code",
   "execution_count": 8,
   "id": "970d4a4a-f4df-4c30-a172-66188a09a2b5",
   "metadata": {},
   "outputs": [
    {
     "data": {
      "text/plain": [
       "Parameter containing:\n",
       "tensor([0., 0., 0., 0., 0.], requires_grad=True)"
      ]
     },
     "execution_count": 8,
     "metadata": {},
     "output_type": "execute_result"
    }
   ],
   "source": [
    "nn.init.constant_(layer.bias,0)\n",
    "layer.bias"
   ]
  },
  {
   "cell_type": "markdown",
   "id": "0cb788ec-6ef4-4ba2-b84a-a4ca2b1cecb4",
   "metadata": {},
   "source": [
    "#### Xavier uniform and Xavier normal"
   ]
  },
  {
   "cell_type": "code",
   "execution_count": null,
   "id": "c0e815b1-5ee6-4c60-9bbd-bdab6d075399",
   "metadata": {},
   "outputs": [],
   "source": []
  }
 ],
 "metadata": {
  "kernelspec": {
   "display_name": "Python 3 (ipykernel)",
   "language": "python",
   "name": "python3"
  },
  "language_info": {
   "codemirror_mode": {
    "name": "ipython",
    "version": 3
   },
   "file_extension": ".py",
   "mimetype": "text/x-python",
   "name": "python",
   "nbconvert_exporter": "python",
   "pygments_lexer": "ipython3",
   "version": "3.11.5"
  }
 },
 "nbformat": 4,
 "nbformat_minor": 5
}
