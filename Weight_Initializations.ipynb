{
 "cells": [
  {
   "cell_type": "markdown",
   "id": "70c83e8d-dae7-4560-a977-ade03112331e",
   "metadata": {},
   "source": [
    "# Weight Initializations"
   ]
  },
  {
   "cell_type": "code",
   "execution_count": 1,
   "id": "e5ac46ef-0f37-498d-95df-9778700b9c51",
   "metadata": {},
   "outputs": [],
   "source": [
    "import torch\n",
    "import torch.nn as nn"
   ]
  },
  {
   "cell_type": "code",
   "execution_count": 2,
   "id": "cf53f104-236a-4e59-beef-67b3cb5f86ff",
   "metadata": {},
   "outputs": [
    {
     "data": {
      "text/plain": [
       "Parameter containing:\n",
       "tensor([[ 0.3913,  0.2667, -0.2969, -0.1375, -0.0343],\n",
       "        [ 0.4304,  0.0209,  0.4193,  0.0858, -0.1380],\n",
       "        [-0.2428,  0.2050, -0.3106, -0.2301,  0.2931],\n",
       "        [ 0.0899,  0.1515,  0.3406, -0.1123, -0.3853],\n",
       "        [ 0.3848,  0.1945,  0.3751, -0.2213,  0.1515]], requires_grad=True)"
      ]
     },
     "execution_count": 2,
     "metadata": {},
     "output_type": "execute_result"
    }
   ],
   "source": [
    "layer=nn.Linear(5,5)\n",
    "layer.weight"
   ]
  },
  {
   "cell_type": "code",
   "execution_count": 3,
   "id": "a1b8d2c3-4276-49eb-97e7-6ec789d8b48e",
   "metadata": {},
   "outputs": [
    {
     "data": {
      "text/plain": [
       "tensor([[ 0.3913,  0.2667, -0.2969, -0.1375, -0.0343],\n",
       "        [ 0.4304,  0.0209,  0.4193,  0.0858, -0.1380],\n",
       "        [-0.2428,  0.2050, -0.3106, -0.2301,  0.2931],\n",
       "        [ 0.0899,  0.1515,  0.3406, -0.1123, -0.3853],\n",
       "        [ 0.3848,  0.1945,  0.3751, -0.2213,  0.1515]])"
      ]
     },
     "execution_count": 3,
     "metadata": {},
     "output_type": "execute_result"
    }
   ],
   "source": [
    "layer.weight.data"
   ]
  },
  {
   "cell_type": "markdown",
   "id": "bfc944e9-2e21-44f6-8e71-8316ad98c78e",
   "metadata": {},
   "source": [
    "#### Initialize weights from a uniform distribution"
   ]
  },
  {
   "cell_type": "code",
   "execution_count": 4,
   "id": "046403a2-d3e2-4c93-8fcc-33c11a0ee484",
   "metadata": {},
   "outputs": [
    {
     "data": {
      "text/plain": [
       "Parameter containing:\n",
       "tensor([[2.5634, 1.0990, 2.8034, 2.0824, 1.8095],\n",
       "        [0.6102, 2.0487, 2.5331, 2.2755, 2.2411],\n",
       "        [0.9018, 1.7530, 1.9782, 0.4400, 2.8729],\n",
       "        [2.2291, 1.4573, 0.6810, 2.2628, 2.3113],\n",
       "        [1.1030, 2.7107, 2.4390, 1.3277, 1.2108]], requires_grad=True)"
      ]
     },
     "execution_count": 4,
     "metadata": {},
     "output_type": "execute_result"
    }
   ],
   "source": [
    "nn.init.uniform_(layer.weight, a=0, b=3)"
   ]
  },
  {
   "cell_type": "markdown",
   "id": "8d10326a-cfd2-4af4-a984-10a65dc4b64d",
   "metadata": {},
   "source": [
    "#### Normal distribution"
   ]
  },
  {
   "cell_type": "code",
   "execution_count": 5,
   "id": "3649b57e-788c-4e1e-af0b-3c9483edc99b",
   "metadata": {},
   "outputs": [
    {
     "data": {
      "text/plain": [
       "Parameter containing:\n",
       "tensor([[-0.3163,  2.6449, -0.7303,  0.9716,  0.2513],\n",
       "        [ 0.8100,  1.8922,  1.2896, -1.5715,  0.1743],\n",
       "        [-0.3700, -0.4202, -0.7640, -1.2785, -0.6731],\n",
       "        [ 0.8440, -0.6178, -0.1466, -0.7210,  1.2774],\n",
       "        [ 0.3760,  1.1948, -1.1976,  0.1761, -0.9667]], requires_grad=True)"
      ]
     },
     "execution_count": 5,
     "metadata": {},
     "output_type": "execute_result"
    }
   ],
   "source": [
    "nn.init.normal_(layer.weight,mean=0,std=1)"
   ]
  },
  {
   "cell_type": "code",
   "execution_count": 6,
   "id": "49b269e4-32d5-4423-a957-d7a9bd18d5d4",
   "metadata": {},
   "outputs": [
    {
     "data": {
      "text/plain": [
       "Parameter containing:\n",
       "tensor([[-0.3261, -0.0833,  0.2708,  0.6548,  0.1230],\n",
       "        [-0.0181, -0.2598,  0.3671,  0.0280,  0.1458],\n",
       "        [ 0.3988, -0.3099,  0.4152, -0.1246, -0.0150],\n",
       "        [-0.0212, -0.0536, -0.3268, -0.1177,  0.2928],\n",
       "        [-0.3257, -0.0554, -0.0671, -0.0396, -0.0762]], requires_grad=True)"
      ]
     },
     "execution_count": 6,
     "metadata": {},
     "output_type": "execute_result"
    }
   ],
   "source": [
    "nn.init.normal_(layer.weight,mean=0,std=0.2)"
   ]
  },
  {
   "cell_type": "markdown",
   "id": "0100a0d7-4bbd-4b57-802b-2a70c57dcb06",
   "metadata": {},
   "source": [
    "#### Constant distribution for initializing bias"
   ]
  },
  {
   "cell_type": "code",
   "execution_count": 7,
   "id": "970d4a4a-f4df-4c30-a172-66188a09a2b5",
   "metadata": {},
   "outputs": [
    {
     "data": {
      "text/plain": [
       "Parameter containing:\n",
       "tensor([0., 0., 0., 0., 0.], requires_grad=True)"
      ]
     },
     "execution_count": 7,
     "metadata": {},
     "output_type": "execute_result"
    }
   ],
   "source": [
    "nn.init.constant_(layer.bias,0)\n",
    "layer.bias"
   ]
  },
  {
   "cell_type": "markdown",
   "id": "0cb788ec-6ef4-4ba2-b84a-a4ca2b1cecb4",
   "metadata": {},
   "source": [
    "#### Xavier uniform and Xavier normal"
   ]
  },
  {
   "cell_type": "code",
   "execution_count": 8,
   "id": "c0e815b1-5ee6-4c60-9bbd-bdab6d075399",
   "metadata": {},
   "outputs": [
    {
     "data": {
      "text/plain": [
       "Parameter containing:\n",
       "tensor([[-0.0613, -0.1214, -0.1923,  0.0713,  0.1960],\n",
       "        [-0.6523,  0.8566,  0.4492, -0.0956,  0.6262],\n",
       "        [ 1.2191, -0.3310, -0.4069, -1.1685,  0.5757],\n",
       "        [ 0.1219, -0.3070,  0.2313, -0.0084, -0.7597],\n",
       "        [ 0.9070,  0.0607,  0.4432,  0.0219, -0.1574]], requires_grad=True)"
      ]
     },
     "execution_count": 8,
     "metadata": {},
     "output_type": "execute_result"
    }
   ],
   "source": [
    "nn.init.xavier_normal_(layer.weight,gain=1)"
   ]
  },
  {
   "cell_type": "code",
   "execution_count": 9,
   "id": "0dd67cd0-95a5-447e-833e-57f71b7641f9",
   "metadata": {},
   "outputs": [
    {
     "data": {
      "text/plain": [
       "Parameter containing:\n",
       "tensor([[-0.3995, -0.5362, -0.3039,  0.7398,  0.4432],\n",
       "        [-0.7020, -0.7619,  0.1389, -0.3520, -0.2449],\n",
       "        [ 0.1597, -0.2841, -0.3740,  0.2189,  0.3427],\n",
       "        [-0.0880,  0.4797,  0.2522,  0.5815,  0.5699],\n",
       "        [-0.1325, -0.0444, -0.1829, -0.1955,  0.1637]], requires_grad=True)"
      ]
     },
     "execution_count": 9,
     "metadata": {},
     "output_type": "execute_result"
    }
   ],
   "source": [
    "nn.init.xavier_uniform_(layer.weight,gain=1)"
   ]
  },
  {
   "cell_type": "code",
   "execution_count": null,
   "id": "a89cf3cf-c717-4f3d-bb51-03563fa22ec8",
   "metadata": {},
   "outputs": [],
   "source": []
  }
 ],
 "metadata": {
  "kernelspec": {
   "display_name": "Python 3 (ipykernel)",
   "language": "python",
   "name": "python3"
  },
  "language_info": {
   "codemirror_mode": {
    "name": "ipython",
    "version": 3
   },
   "file_extension": ".py",
   "mimetype": "text/x-python",
   "name": "python",
   "nbconvert_exporter": "python",
   "pygments_lexer": "ipython3",
   "version": "3.11.5"
  }
 },
 "nbformat": 4,
 "nbformat_minor": 5
}
