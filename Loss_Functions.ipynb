{
 "cells": [
  {
   "cell_type": "markdown",
   "id": "7a2c7350-19ed-4487-8edf-287c9450a812",
   "metadata": {},
   "source": [
    "# Loss Functions"
   ]
  },
  {
   "cell_type": "code",
   "execution_count": 1,
   "id": "1afb5f8a-fcc6-463c-8a00-00a9685761bc",
   "metadata": {},
   "outputs": [],
   "source": [
    "import torch\n",
    "import torch.nn as nn"
   ]
  },
  {
   "cell_type": "markdown",
   "id": "4fd887c4-b051-45cf-92f7-f7c76f4b0307",
   "metadata": {},
   "source": [
    "### Mean-Squared Loss"
   ]
  },
  {
   "cell_type": "code",
   "execution_count": 2,
   "id": "615855d2-1ad6-4db6-bf81-5e89d5a79cff",
   "metadata": {},
   "outputs": [
    {
     "data": {
      "text/plain": [
       "tensor([[-0.3609,  0.8666, -0.2309,  2.0283,  1.1034],\n",
       "        [ 0.3700, -2.0589,  0.0689, -0.3031, -0.3467],\n",
       "        [ 1.2822,  2.0098,  0.7484, -0.1459, -1.5341],\n",
       "        [ 1.6089,  2.8434, -0.8138, -0.3898,  1.8719]])"
      ]
     },
     "execution_count": 2,
     "metadata": {},
     "output_type": "execute_result"
    }
   ],
   "source": [
    "prediction = torch.randn(4,5)\n",
    "prediction"
   ]
  },
  {
   "cell_type": "code",
   "execution_count": 3,
   "id": "34708d06-0f86-4251-a512-6b15da34292e",
   "metadata": {},
   "outputs": [
    {
     "data": {
      "text/plain": [
       "tensor([[ 1.7978, -0.0221, -0.2008, -0.1188,  1.5822],\n",
       "        [-0.3671, -0.6765,  1.6402,  1.7498, -1.2393],\n",
       "        [-0.4367, -0.5027,  1.2113, -0.3810, -1.5282],\n",
       "        [ 0.3049,  0.7158,  2.6476,  0.7302, -0.3338]])"
      ]
     },
     "execution_count": 3,
     "metadata": {},
     "output_type": "execute_result"
    }
   ],
   "source": [
    "label = torch.randn(4,5)\n",
    "label"
   ]
  },
  {
   "cell_type": "code",
   "execution_count": 4,
   "id": "e6b6e53a-9ffe-4b1b-b7de-72e6371d5e9f",
   "metadata": {},
   "outputs": [],
   "source": [
    "mse_none = nn.MSELoss(reduction='none')"
   ]
  },
  {
   "cell_type": "code",
   "execution_count": 5,
   "id": "840e8531-7d14-44c4-aa7f-fb3c2cc32ee7",
   "metadata": {},
   "outputs": [
    {
     "data": {
      "text/plain": [
       "tensor([[4.6603e+00, 7.8976e-01, 9.0882e-04, 4.6099e+00, 2.2926e-01],\n",
       "        [5.4339e-01, 1.9110e+00, 2.4689e+00, 4.2143e+00, 7.9661e-01],\n",
       "        [2.9545e+00, 6.3124e+00, 2.1422e-01, 5.5269e-02, 3.4614e-05],\n",
       "        [1.7003e+00, 4.5270e+00, 1.1981e+01, 1.2544e+00, 4.8651e+00]])"
      ]
     },
     "execution_count": 5,
     "metadata": {},
     "output_type": "execute_result"
    }
   ],
   "source": [
    "loss = mse_none(prediction,label)\n",
    "loss"
   ]
  },
  {
   "cell_type": "code",
   "execution_count": 6,
   "id": "4e8f083a-fba9-46a6-b814-35c75405ca2b",
   "metadata": {},
   "outputs": [],
   "source": [
    "mse_mean = nn.MSELoss(reduction='mean')"
   ]
  },
  {
   "cell_type": "code",
   "execution_count": 7,
   "id": "9f0e65f2-c538-4e74-bb05-bb8fa9700795",
   "metadata": {},
   "outputs": [
    {
     "data": {
      "text/plain": [
       "tensor(2.7044)"
      ]
     },
     "execution_count": 7,
     "metadata": {},
     "output_type": "execute_result"
    }
   ],
   "source": [
    "loss = mse_mean(prediction,label)\n",
    "loss"
   ]
  },
  {
   "cell_type": "markdown",
   "id": "ba47c419-e333-40c9-b592-f41e3f858826",
   "metadata": {},
   "source": [
    "#### Calculating the mse directly..."
   ]
  },
  {
   "cell_type": "code",
   "execution_count": 8,
   "id": "be6fe86f-ca1f-4314-a450-dd51d6e601f3",
   "metadata": {},
   "outputs": [
    {
     "data": {
      "text/plain": [
       "tensor(2.7044)"
      ]
     },
     "execution_count": 8,
     "metadata": {},
     "output_type": "execute_result"
    }
   ],
   "source": [
    "((prediction-label)**2).mean()"
   ]
  },
  {
   "cell_type": "markdown",
   "id": "9e351f8b-fc0b-4c61-877b-d752e8694cbf",
   "metadata": {},
   "source": [
    "### Binary Cross-Entropy Loss"
   ]
  },
  {
   "cell_type": "code",
   "execution_count": 9,
   "id": "c7af1d4c-3044-41fa-8e9c-20293d04c28d",
   "metadata": {},
   "outputs": [
    {
     "data": {
      "text/plain": [
       "tensor([[-0.3609,  0.8666, -0.2309,  2.0283,  1.1034],\n",
       "        [ 0.3700, -2.0589,  0.0689, -0.3031, -0.3467],\n",
       "        [ 1.2822,  2.0098,  0.7484, -0.1459, -1.5341],\n",
       "        [ 1.6089,  2.8434, -0.8138, -0.3898,  1.8719]])"
      ]
     },
     "execution_count": 9,
     "metadata": {},
     "output_type": "execute_result"
    }
   ],
   "source": [
    "prediction"
   ]
  },
  {
   "cell_type": "code",
   "execution_count": 10,
   "id": "9f17990a-a8a8-4773-9be8-0ece944d7725",
   "metadata": {},
   "outputs": [
    {
     "data": {
      "text/plain": [
       "tensor([[1., 0., 0., 1., 0.],\n",
       "        [1., 0., 0., 0., 0.],\n",
       "        [1., 1., 0., 1., 1.],\n",
       "        [1., 0., 0., 0., 0.]])"
      ]
     },
     "execution_count": 10,
     "metadata": {},
     "output_type": "execute_result"
    }
   ],
   "source": [
    "label = torch.zeros(4,5).random_(0,2)  # 1+1 = 2 specifies 1 has highest index (take on values of 0 or 1)\n",
    "label"
   ]
  },
  {
   "cell_type": "markdown",
   "id": "2b95dd4d-dbc7-494d-bed2-57d52622330d",
   "metadata": {},
   "source": [
    "#### For binary cross-entropy loss, we need a sigmoid function."
   ]
  },
  {
   "cell_type": "code",
   "execution_count": 11,
   "id": "2ef5d66d-08d6-4b03-b6b4-1f3acf8820a5",
   "metadata": {},
   "outputs": [],
   "source": [
    "sigmoid = nn.Sigmoid()"
   ]
  },
  {
   "cell_type": "code",
   "execution_count": 12,
   "id": "1b52d29f-7150-4b49-8c67-ee295b219566",
   "metadata": {},
   "outputs": [],
   "source": [
    "bce = nn.BCELoss(reduction='mean')"
   ]
  },
  {
   "cell_type": "code",
   "execution_count": 13,
   "id": "72e0feae-762e-4241-a296-49c1b17f1581",
   "metadata": {},
   "outputs": [
    {
     "data": {
      "text/plain": [
       "tensor(0.8326)"
      ]
     },
     "execution_count": 13,
     "metadata": {},
     "output_type": "execute_result"
    }
   ],
   "source": [
    "bce(sigmoid(prediction),label)"
   ]
  },
  {
   "cell_type": "code",
   "execution_count": 14,
   "id": "85e1bdf8-fad0-415e-bd37-882f99ca523d",
   "metadata": {},
   "outputs": [
    {
     "data": {
      "text/plain": [
       "tensor(0.8326)"
      ]
     },
     "execution_count": 14,
     "metadata": {},
     "output_type": "execute_result"
    }
   ],
   "source": [
    "bces = nn.BCEWithLogitsLoss(reduction='mean')  # don't need the sigmoid function here\n",
    "bces(prediction,label)"
   ]
  },
  {
   "cell_type": "markdown",
   "id": "f868dc4b-efdb-476a-b6e5-2db9c692b919",
   "metadata": {},
   "source": [
    "#### Calculating the BCE directly..."
   ]
  },
  {
   "cell_type": "code",
   "execution_count": 15,
   "id": "ab624de8-e9f5-4b20-87af-4eecb04f6cf4",
   "metadata": {},
   "outputs": [],
   "source": [
    "import numpy as np\n",
    "x = sigmoid(prediction).numpy()  # get the sigmoid of x so that we can use logit functions\n",
    "y = label.numpy()                # convert 'prediction' and 'label' from tensor to numpy array"
   ]
  },
  {
   "cell_type": "code",
   "execution_count": 16,
   "id": "add98dd1-bd62-47d4-94d7-9b9d7c2f36a8",
   "metadata": {},
   "outputs": [],
   "source": [
    "# not an efficient way of accomplishing the task\n",
    "\n",
    "loss_values=[]  # start with empty list.  \n",
    "for i in range(len(x)):\n",
    "    batch_loss=[]\n",
    "    for j in range(len(x[0])):  # x[0] is the first row of x\n",
    "        if y[i][j]==1:\n",
    "            loss = -np.log(x[i][j])\n",
    "        else:\n",
    "            loss = -np.log(1-x[i][j])        \n",
    "        batch_loss.append(loss)\n",
    "    loss_values.append(batch_loss)"
   ]
  },
  {
   "cell_type": "code",
   "execution_count": 17,
   "id": "3aea4387-5052-4050-8e4d-3af4d236e277",
   "metadata": {},
   "outputs": [
    {
     "data": {
      "text/plain": [
       "0.8326199400592739"
      ]
     },
     "execution_count": 17,
     "metadata": {},
     "output_type": "execute_result"
    }
   ],
   "source": [
    "np.mean(loss_values)"
   ]
  },
  {
   "cell_type": "code",
   "execution_count": 18,
   "id": "d50a8a7e-6146-4089-83d1-5215b10015dd",
   "metadata": {},
   "outputs": [],
   "source": [
    "# a more compact way of writing the code\n",
    "\n",
    "loss_values=[]  # start with empty list.  \n",
    "for i in range(len(x)):\n",
    "    batch_loss=[]\n",
    "    for j in range(len(x[0])):  # x[0] is the first row of x\n",
    "        batch_loss.append(-np.log(x[i][j]) if y[i][j]==1 else -np.log(1-x[i][j])) \n",
    "    loss_values.append(batch_loss)"
   ]
  },
  {
   "cell_type": "code",
   "execution_count": 19,
   "id": "84be0044-23cf-4311-b040-46d18afef687",
   "metadata": {},
   "outputs": [
    {
     "data": {
      "text/plain": [
       "0.8326199400592739"
      ]
     },
     "execution_count": 19,
     "metadata": {},
     "output_type": "execute_result"
    }
   ],
   "source": [
    "np.mean(loss_values)"
   ]
  },
  {
   "cell_type": "code",
   "execution_count": null,
   "id": "5ee96850-8792-44e3-837a-67700c18e5f4",
   "metadata": {},
   "outputs": [],
   "source": []
  }
 ],
 "metadata": {
  "kernelspec": {
   "display_name": "Python 3 (ipykernel)",
   "language": "python",
   "name": "python3"
  },
  "language_info": {
   "codemirror_mode": {
    "name": "ipython",
    "version": 3
   },
   "file_extension": ".py",
   "mimetype": "text/x-python",
   "name": "python",
   "nbconvert_exporter": "python",
   "pygments_lexer": "ipython3",
   "version": "3.11.5"
  }
 },
 "nbformat": 4,
 "nbformat_minor": 5
}
